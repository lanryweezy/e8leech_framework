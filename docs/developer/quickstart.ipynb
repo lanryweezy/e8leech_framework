{
 "cells": [
  {
   "cell_type": "markdown",
   "metadata": {},
   "source": [
    "# Quickstart\n",
    "\n",
    "This notebook provides a quick introduction to the e8leech library."
   ]
  },
  {
   "cell_type": "code",
   "execution_count": null,
   "metadata": {},
   "outputs": [],
   "source": [
    "from e8leech.core.e8_lattice import E8Lattice\n",
    "from e8leech.core.leech_lattice import LeechLattice\n",
    "\n",
    "# Create an E8 lattice\n",
    "e8 = E8Lattice()\n",
    "print(f\"E8 kissing number: {e8.kissing_number()}\")\n",
    "\n",
    "# Create a Leech lattice\n",
    "leech = LeechLattice()\n",
    "print(f\"Leech kissing number: {leech.kissing_number()}\")"
   ]
  }
 ],
 "metadata": {
  "kernelspec": {
   "display_name": "Python 3",
   "language": "python",
   "name": "python3"
  },
  "language_info": {
   "codemirror_mode": {
    "name": "ipython",
    "version": 3
   },
   "file_extension": ".py",
   "mimetype": "text/x-python",
   "name": "python",
   "nbconvert_exporter": "python",
   "pygments_lexer": "ipython3",
   "version": "3.12.11"
  }
 },
 "nbformat": 4,
 "nbformat_minor": 4
}
